{
  "nbformat": 4,
  "nbformat_minor": 0,
  "metadata": {
    "kernelspec": {
      "display_name": "R",
      "language": "R",
      "name": "ir"
    },
    "language_info": {
      "codemirror_mode": "r",
      "file_extension": ".r",
      "mimetype": "text/x-r-source",
      "name": "R",
      "pygments_lexer": "r",
      "version": "3.6.1"
    },
    "colab": {
      "name": "rvest_tutorial_dmi_winterschool_2020_Solution.ipynb",
      "provenance": [],
      "collapsed_sections": [],
      "include_colab_link": true
    }
  },
  "cells": [
    {
      "cell_type": "markdown",
      "metadata": {
        "id": "view-in-github",
        "colab_type": "text"
      },
      "source": [
        "<a href=\"https://colab.research.google.com/github/xvariable/rvest_tutorial/blob/master/rvest_tutorial_dmi_winterschool_2020_Solution.ipynb\" target=\"_parent\"><img src=\"https://colab.research.google.com/assets/colab-badge.svg\" alt=\"Open In Colab\"/></a>"
      ]
    },
    {
      "cell_type": "markdown",
      "metadata": {
        "colab_type": "text",
        "id": "L7KD3mNCnVV_"
      },
      "source": [
        "# Tutorial Webscraping in R\n",
        "\n",
        "Jule Scheper, M.A. & Dr. Julia Niemann-Lenz<br />Hanover University of Music, Drama and Media | Department of Journalism and Communication Research <br /><br />Solution\n"
      ]
    },
    {
      "cell_type": "markdown",
      "metadata": {
        "id": "tz8XS812typW",
        "colab_type": "text"
      },
      "source": [
        "#0. Prerequisites\n",
        "\n",
        "*   Tutorial code in jupyter notebook, download here:\n",
        "*   Register for https://colab.research.google.com, put your copy of the notebook there and open it\n",
        "* Selector Gadget plugin for Google Chrome: https://chrome.google.com/webstore/detail/selectorgadget/"
      ]
    },
    {
      "cell_type": "markdown",
      "metadata": {
        "colab_type": "text",
        "id": "Kjs_G23PkzTI"
      },
      "source": [
        "# 1. What is Webscraping?\n",
        "\n",
        "\n",
        "<b>Saving data from websites automatically</b> <br /> Step 1: Calling up a website <br />Step 2: Extraction of relevant content<br /><br /> <b> Step 1: Calling up a website</b> <br /> Most ideally, all data is located on one website and can be extracted directly. If the data is located on several web pages, links can also be extracted and called up one after the other.<br /><br /><b>Step 2: Extraction of relevant content</b><br />Textual data on websites is available as HTML. Using HTML tags and CSS attributes, you can select specific content elements and save it.\n",
        "\n",
        "\n"
      ]
    },
    {
      "cell_type": "markdown",
      "metadata": {
        "colab_type": "text",
        "id": "CujjG4fGofXy"
      },
      "source": [
        "# 2. HTML & CSS\n",
        "\n",
        "\n",
        "<b>HTML (Hypertext Markup Language)</b> <br /> \n",
        "<li> Markup language that can be used to describe how digital documents are semantically structured </li> \n",
        "<li>Formatting by web browser or CSS</li> \n",
        "<li> Based on XML </li> \n",
        "<li>Setup with \"tags\" </li><br /> \n",
        "<b>CSS(Cascading Style Sheets)</b>\n",
        "<li>Design instructions for the HTML</li><br /><b>\n",
        "\n",
        "Example HTML:\n",
        "```\n",
        "<html>\n",
        "<body>\n",
        "<h1>Star Wars Intro</h1>\n",
        "<p class = \"sw_text\">A long time ago in a galaxy far, far away....</p>\n",
        "...\n",
        "```\n",
        "\n",
        "Example CSS class:\n",
        "```\n",
        "p.error {\n",
        "  font-family: courier;\n",
        "  color: red;\n",
        "  font-size: 160%;\n",
        "}\n",
        "```\n",
        "\n",
        "\n",
        "\n",
        "</b><b>Exercise</b></b> <br />Visit https://www.imdb.com/title/tt2527338/?ref_=nv_sr_srsg_1, activate your Inspector Gadget in Chrome. <li> Find the HTML-Tag or CSS class that identifies the Rating (6,9) of Star Wars Episode IX <li>How can you select several elements at once? <li>How can you deselect elements?</li>\n",
        "\n",
        "\n"
      ]
    },
    {
      "cell_type": "markdown",
      "metadata": {
        "colab_type": "text",
        "id": "J9st0d_dsOly"
      },
      "source": [
        "# 3. Webscraping with R | Scraping content from a single web page\n",
        "\n",
        "For Webscraping you need the R package rvest (Easily Ha<b>rvest</b> (Scrape) web pages)<br /> Important notes and documentation on rvest: https://cran.r-project.org/web/packages/rvest/rvest.pdf<br /> <br /> We practice web scraping using the website of the EU Parliament. As a first exercise we want to scrape the names of the parliament members. First we want to scrape only the names that are visible on the first page of the overview (https://www.europarl.europa.eu/meps/en/full-list). <br /> <br />Run the following codes to scrape the names of the parliament members visibly on the first page\n",
        "\n",
        "\n",
        "\n"
      ]
    },
    {
      "cell_type": "code",
      "metadata": {
        "id": "itPE53lLtt5H",
        "colab_type": "code",
        "outputId": "4a6df835-3cd6-4301-f62d-248bb0d1e700",
        "colab": {
          "base_uri": "https://localhost:8080/",
          "height": 86
        }
      },
      "source": [
        "# install.package(\"rvest\"))\n",
        "library(rvest)\n",
        "\n",
        "# Store the URL you want to scrape as a new object \n",
        "eu_url <- \"https://www.europarl.europa.eu/meps/en/full-list\"\n",
        "\n",
        "# Download HTML code from that URL and save it in a new object\n",
        "eu_html <- read_html(eu_url, encoding = \"UTF-8\")\n",
        "\n",
        "# View the source code we just downloaded: \n",
        "eu_html"
      ],
      "execution_count": 0,
      "outputs": [
        {
          "output_type": "display_data",
          "data": {
            "text/plain": [
              "{html_document}\n",
              "<html xmlns=\"http://www.w3.org/1999/xhtml\" xml:lang=\"en\" lang=\"en\">\n",
              "[1] <head>\\n<meta http-equiv=\"Content-Type\" content=\"text/html; charset=UTF-8 ...\n",
              "[2] <body xml:lang=\"en\" lang=\"en\" data-isie=\"true\">\\r\\n\\t<div id=\"website\">\\r ..."
            ]
          },
          "metadata": {
            "tags": []
          }
        }
      ]
    },
    {
      "cell_type": "markdown",
      "metadata": {
        "id": "qiB54dWsdv3P",
        "colab_type": "text"
      },
      "source": [
        "Now we have extracted the whole HTML code of the web page. But if we only want to extract certain content - such as the names of the members of parliament - we have to address certain HTML nodes that contain this content. \n",
        "\n",
        "Since we don´t know how the node could be identifies we use the Inspector gadget in Chrome and identify the CSS class that is used on the site to format parlamentarians names."
      ]
    },
    {
      "cell_type": "code",
      "metadata": {
        "id": "mmSI8n_Q2v6S",
        "colab_type": "code",
        "outputId": "68b006b4-94fa-4b8c-bc6e-53807f5b6224",
        "colab": {
          "base_uri": "https://localhost:8080/",
          "height": 401
        }
      },
      "source": [
        "# Exercise: Find the CSS class used for the names of parliament members\n",
        "eu_names_node <- html_nodes(eu_html,\".member-name\") \n",
        "\n",
        "# View the list of html_nodes:\n",
        "eu_names_node"
      ],
      "execution_count": 0,
      "outputs": [
        {
          "output_type": "display_data",
          "data": {
            "text/plain": [
              "{xml_nodeset (37)}\n",
              " [1] <span class=\"ep_name member-name\">Magdalena ADAMOWICZ</span>\n",
              " [2] <span class=\"ep_name member-name\">Asim ADEMOV</span>\n",
              " [3] <span class=\"ep_name member-name\">Isabella ADINOLFI</span>\n",
              " [4] <span class=\"ep_name member-name\">Matteo ADINOLFI</span>\n",
              " [5] <span class=\"ep_name member-name\">Alex AGIUS SALIBA</span>\n",
              " [6] <span class=\"ep_name member-name\">Mazaly AGUILAR</span>\n",
              " [7] <span class=\"ep_name member-name\">Clara AGUILERA</span>\n",
              " [8] <span class=\"ep_name member-name\">Scott AINSLIE</span>\n",
              " [9] <span class=\"ep_name member-name\">Alexander ALEXANDROV YORDANOV</span>\n",
              "[10] <span class=\"ep_name member-name\">François ALFONSI</span>\n",
              "[11] <span class=\"ep_name member-name\">Atidzhe ALIEVA-VELI</span>\n",
              "[12] <span class=\"ep_name member-name\">Christian ALLARD</span>\n",
              "[13] <span class=\"ep_name member-name\">Abir AL-SAHLANI</span>\n",
              "[14] <span class=\"ep_name member-name\">Álvaro AMARO</span>\n",
              "[15] <span class=\"ep_name member-name\">Andris AMERIKS</span>\n",
              "[16] <span class=\"ep_name member-name\">Christine ANDERSON</span>\n",
              "[17] <span class=\"ep_name member-name\">Martina ANDERSON</span>\n",
              "[18] <span class=\"ep_name member-name\">Rasmus ANDRESEN</span>\n",
              "[19] <span class=\"ep_name member-name\">Eric ANDRIEU</span>\n",
              "[20] <span class=\"ep_name member-name\">Mathilde ANDROUËT</span>\n",
              "..."
            ]
          },
          "metadata": {
            "tags": []
          }
        }
      ]
    },
    {
      "cell_type": "markdown",
      "metadata": {
        "id": "D8UYfyi_e2Zl",
        "colab_type": "text"
      },
      "source": [
        "Alright, the names are here. But there are still the HTML tags arouns the names of the parlamentarians. To get rid of any HTML we can use the function `html_text()`:"
      ]
    },
    {
      "cell_type": "code",
      "metadata": {
        "id": "lY6FTG0i5FdL",
        "colab_type": "code",
        "outputId": "9ba9f37c-51ba-4f6d-8ab9-3fb6cda12bb0",
        "colab": {
          "base_uri": "https://localhost:8080/",
          "height": 664
        }
      },
      "source": [
        "#Now we can extract the text of the specific node\n",
        "eu_parl_names <- html_text(eu_names_node)\n",
        "\n",
        "#Viewing list of names:\n",
        "eu_parl_names"
      ],
      "execution_count": 0,
      "outputs": [
        {
          "output_type": "display_data",
          "data": {
            "text/plain": [
              " [1] \"Magdalena ADAMOWICZ\"           \"Asim ADEMOV\"                  \n",
              " [3] \"Isabella ADINOLFI\"             \"Matteo ADINOLFI\"              \n",
              " [5] \"Alex AGIUS SALIBA\"             \"Mazaly AGUILAR\"               \n",
              " [7] \"Clara AGUILERA\"                \"Scott AINSLIE\"                \n",
              " [9] \"Alexander ALEXANDROV YORDANOV\" \"François ALFONSI\"             \n",
              "[11] \"Atidzhe ALIEVA-VELI\"           \"Christian ALLARD\"             \n",
              "[13] \"Abir AL-SAHLANI\"               \"Álvaro AMARO\"                 \n",
              "[15] \"Andris AMERIKS\"                \"Christine ANDERSON\"           \n",
              "[17] \"Martina ANDERSON\"              \"Rasmus ANDRESEN\"              \n",
              "[19] \"Eric ANDRIEU\"                  \"Mathilde ANDROUËT\"            \n",
              "[21] \"Nikos ANDROULAKIS\"             \"Marc ANGEL\"                   \n",
              "[23] \"Gerolf ANNEMANS\"               \"Andrus ANSIP\"                 \n",
              "[25] \"Attila ARA-KOVÁCS\"             \"Maria ARENA\"                  \n",
              "[27] \"Pablo ARIAS ECHEVERRÍA\"        \"Pascal ARIMONT\"               \n",
              "[29] \"Bartosz ARŁUKOWICZ\"            \"Clotilde ARMAND\"              \n",
              "[31] \"Konstantinos ARVANITIS\"        \"Anna-Michelle ASIMAKOPOULOU\"  \n",
              "[33] \"Manon AUBRY\"                   \"Margrete AUKEN\"               \n",
              "[35] \"Petras AUŠTREVIČIUS\"           \"Carmen AVRAM\"                 \n",
              "[37] \"Malik AZMANI\"                 "
            ],
            "text/latex": "\\begin{enumerate*}\n\\item 'Magdalena ADAMOWICZ'\n\\item 'Asim ADEMOV'\n\\item 'Isabella ADINOLFI'\n\\item 'Matteo ADINOLFI'\n\\item 'Alex AGIUS SALIBA'\n\\item 'Mazaly AGUILAR'\n\\item 'Clara AGUILERA'\n\\item 'Scott AINSLIE'\n\\item 'Alexander ALEXANDROV YORDANOV'\n\\item 'François ALFONSI'\n\\item 'Atidzhe ALIEVA-VELI'\n\\item 'Christian ALLARD'\n\\item 'Abir AL-SAHLANI'\n\\item 'Álvaro AMARO'\n\\item 'Andris AMERIKS'\n\\item 'Christine ANDERSON'\n\\item 'Martina ANDERSON'\n\\item 'Rasmus ANDRESEN'\n\\item 'Eric ANDRIEU'\n\\item 'Mathilde ANDROUËT'\n\\item 'Nikos ANDROULAKIS'\n\\item 'Marc ANGEL'\n\\item 'Gerolf ANNEMANS'\n\\item 'Andrus ANSIP'\n\\item 'Attila ARA-KOVÁCS'\n\\item 'Maria ARENA'\n\\item 'Pablo ARIAS ECHEVERRÍA'\n\\item 'Pascal ARIMONT'\n\\item 'Bartosz ARŁUKOWICZ'\n\\item 'Clotilde ARMAND'\n\\item 'Konstantinos ARVANITIS'\n\\item 'Anna-Michelle ASIMAKOPOULOU'\n\\item 'Manon AUBRY'\n\\item 'Margrete AUKEN'\n\\item 'Petras AUŠTREVIČIUS'\n\\item 'Carmen AVRAM'\n\\item 'Malik AZMANI'\n\\end{enumerate*}\n",
            "text/markdown": "1. 'Magdalena ADAMOWICZ'\n2. 'Asim ADEMOV'\n3. 'Isabella ADINOLFI'\n4. 'Matteo ADINOLFI'\n5. 'Alex AGIUS SALIBA'\n6. 'Mazaly AGUILAR'\n7. 'Clara AGUILERA'\n8. 'Scott AINSLIE'\n9. 'Alexander ALEXANDROV YORDANOV'\n10. 'François ALFONSI'\n11. 'Atidzhe ALIEVA-VELI'\n12. 'Christian ALLARD'\n13. 'Abir AL-SAHLANI'\n14. 'Álvaro AMARO'\n15. 'Andris AMERIKS'\n16. 'Christine ANDERSON'\n17. 'Martina ANDERSON'\n18. 'Rasmus ANDRESEN'\n19. 'Eric ANDRIEU'\n20. 'Mathilde ANDROUËT'\n21. 'Nikos ANDROULAKIS'\n22. 'Marc ANGEL'\n23. 'Gerolf ANNEMANS'\n24. 'Andrus ANSIP'\n25. 'Attila ARA-KOVÁCS'\n26. 'Maria ARENA'\n27. 'Pablo ARIAS ECHEVERRÍA'\n28. 'Pascal ARIMONT'\n29. 'Bartosz ARŁUKOWICZ'\n30. 'Clotilde ARMAND'\n31. 'Konstantinos ARVANITIS'\n32. 'Anna-Michelle ASIMAKOPOULOU'\n33. 'Manon AUBRY'\n34. 'Margrete AUKEN'\n35. 'Petras AUŠTREVIČIUS'\n36. 'Carmen AVRAM'\n37. 'Malik AZMANI'\n\n\n",
            "text/html": [
              "<ol class=list-inline>\n",
              "\t<li>'Magdalena ADAMOWICZ'</li>\n",
              "\t<li>'Asim ADEMOV'</li>\n",
              "\t<li>'Isabella ADINOLFI'</li>\n",
              "\t<li>'Matteo ADINOLFI'</li>\n",
              "\t<li>'Alex AGIUS SALIBA'</li>\n",
              "\t<li>'Mazaly AGUILAR'</li>\n",
              "\t<li>'Clara AGUILERA'</li>\n",
              "\t<li>'Scott AINSLIE'</li>\n",
              "\t<li>'Alexander ALEXANDROV YORDANOV'</li>\n",
              "\t<li>'François ALFONSI'</li>\n",
              "\t<li>'Atidzhe ALIEVA-VELI'</li>\n",
              "\t<li>'Christian ALLARD'</li>\n",
              "\t<li>'Abir AL-SAHLANI'</li>\n",
              "\t<li>'Álvaro AMARO'</li>\n",
              "\t<li>'Andris AMERIKS'</li>\n",
              "\t<li>'Christine ANDERSON'</li>\n",
              "\t<li>'Martina ANDERSON'</li>\n",
              "\t<li>'Rasmus ANDRESEN'</li>\n",
              "\t<li>'Eric ANDRIEU'</li>\n",
              "\t<li>'Mathilde ANDROUËT'</li>\n",
              "\t<li>'Nikos ANDROULAKIS'</li>\n",
              "\t<li>'Marc ANGEL'</li>\n",
              "\t<li>'Gerolf ANNEMANS'</li>\n",
              "\t<li>'Andrus ANSIP'</li>\n",
              "\t<li>'Attila ARA-KOVÁCS'</li>\n",
              "\t<li>'Maria ARENA'</li>\n",
              "\t<li>'Pablo ARIAS ECHEVERRÍA'</li>\n",
              "\t<li>'Pascal ARIMONT'</li>\n",
              "\t<li>'Bartosz ARŁUKOWICZ'</li>\n",
              "\t<li>'Clotilde ARMAND'</li>\n",
              "\t<li>'Konstantinos ARVANITIS'</li>\n",
              "\t<li>'Anna-Michelle ASIMAKOPOULOU'</li>\n",
              "\t<li>'Manon AUBRY'</li>\n",
              "\t<li>'Margrete AUKEN'</li>\n",
              "\t<li>'Petras AUŠTREVIČIUS'</li>\n",
              "\t<li>'Carmen AVRAM'</li>\n",
              "\t<li>'Malik AZMANI'</li>\n",
              "</ol>\n"
            ]
          },
          "metadata": {
            "tags": []
          }
        }
      ]
    },
    {
      "cell_type": "markdown",
      "metadata": {
        "id": "MO4kUTkVXbDb",
        "colab_type": "text"
      },
      "source": [
        "<b>Exercise</b><br /> Now you now how to scrape text from a single webpage. Try to reproduce the code and scrape the country of origin of every parliament member (instead of just the name)."
      ]
    },
    {
      "cell_type": "code",
      "metadata": {
        "colab_type": "code",
        "id": "r71uMUGNXUcZ",
        "outputId": "76cb8f08-0423-4562-c68a-5e6bd27af08e",
        "colab": {
          "base_uri": "https://localhost:8080/",
          "height": 172
        }
      },
      "source": [
        "#Fill in your code (you can copy the code from above and simply change the specific elements)\n",
        "eu_parl_countries <- html_nodes(eu_html,\".ep-layout_country .ep_name\") \n",
        "eu_parl_countries <- html_text(eu_parl_countries)\n",
        "\n",
        "# We can now combine the two variables together and have a nice little dataset:\n",
        "data <- cbind(eu_parl_names, eu_parl_countries)\n",
        "head(data)"
      ],
      "execution_count": 0,
      "outputs": [
        {
          "output_type": "display_data",
          "data": {
            "text/plain": [
              "     eu_parl_names       eu_parl_countries\n",
              "[1,] Magdalena ADAMOWICZ Poland           \n",
              "[2,] Asim ADEMOV         Bulgaria         \n",
              "[3,] Isabella ADINOLFI   Italy            \n",
              "[4,] Matteo ADINOLFI     Italy            \n",
              "[5,] Alex AGIUS SALIBA   Malta            \n",
              "[6,] Mazaly AGUILAR      Spain            "
            ],
            "text/latex": "A matrix: 6 × 2 of type chr\n\\begin{tabular}{ll}\n eu\\_parl\\_names & eu\\_parl\\_countries\\\\\n\\hline\n\t Magdalena ADAMOWICZ & Poland  \\\\\n\t Asim ADEMOV         & Bulgaria\\\\\n\t Isabella ADINOLFI   & Italy   \\\\\n\t Matteo ADINOLFI     & Italy   \\\\\n\t Alex AGIUS SALIBA   & Malta   \\\\\n\t Mazaly AGUILAR      & Spain   \\\\\n\\end{tabular}\n",
            "text/markdown": "\nA matrix: 6 × 2 of type chr\n\n| eu_parl_names | eu_parl_countries |\n|---|---|\n| Magdalena ADAMOWICZ | Poland   |\n| Asim ADEMOV         | Bulgaria |\n| Isabella ADINOLFI   | Italy    |\n| Matteo ADINOLFI     | Italy    |\n| Alex AGIUS SALIBA   | Malta    |\n| Mazaly AGUILAR      | Spain    |\n\n",
            "text/html": [
              "<table>\n",
              "<caption>A matrix: 6 × 2 of type chr</caption>\n",
              "<thead>\n",
              "\t<tr><th scope=col>eu_parl_names</th><th scope=col>eu_parl_countries</th></tr>\n",
              "</thead>\n",
              "<tbody>\n",
              "\t<tr><td>Magdalena ADAMOWICZ</td><td>Poland  </td></tr>\n",
              "\t<tr><td>Asim ADEMOV        </td><td>Bulgaria</td></tr>\n",
              "\t<tr><td>Isabella ADINOLFI  </td><td>Italy   </td></tr>\n",
              "\t<tr><td>Matteo ADINOLFI    </td><td>Italy   </td></tr>\n",
              "\t<tr><td>Alex AGIUS SALIBA  </td><td>Malta   </td></tr>\n",
              "\t<tr><td>Mazaly AGUILAR     </td><td>Spain   </td></tr>\n",
              "</tbody>\n",
              "</table>\n"
            ]
          },
          "metadata": {
            "tags": []
          }
        }
      ]
    },
    {
      "cell_type": "markdown",
      "metadata": {
        "colab_type": "text",
        "id": "uegV-LznZUxg"
      },
      "source": [
        "# 4. Webscraping with R | Scraping text from multiple web pages\n",
        "\n",
        "By now you know how to scrape text from a single URL. But what if we don't want to scrape the names of the members of parliament, but their date of birth. This is not on the first page, but on the bottom of each Member's page. <br /><br />To do so, we need to visit the subpage of every parlamentarian and extract the birth date from there. But first we need a list of the links to all subpages we want to visit.\n",
        "Afterwards we can use a loop to visit each subpage one after the other and extract the date of birth from there.\n",
        "\n",
        "But how do we get a list of the URLs? They are not written on the page, but obviusly they are somewhere in the source code. Links are an attribute of the HTML tag `<a>`. We can extract attributes of tags using the rvest function `html_attr()`.\n"
      ]
    },
    {
      "cell_type": "code",
      "metadata": {
        "id": "xiaIXheL9BFM",
        "colab_type": "code",
        "outputId": "b9acbbc8-412b-48b3-8c8a-26c521a5f39b",
        "colab": {
          "base_uri": "https://localhost:8080/",
          "height": 664
        }
      },
      "source": [
        "# We nee a slightly different node this time:\n",
        "eu_links_nodes <- html_nodes(eu_html,\".single-member-container a\") \n",
        "\n",
        "# Now using the html_attr() function on the new nodes\n",
        "# we are telling it to extract the \"href\" attribute:\n",
        "eu_links <- html_attr(eu_links_nodes, \"href\")\n",
        "\n",
        "# We need to paste the url to the links:\n",
        "eu_links <- paste0(\"https://www.europarl.europa.eu\", eu_links)\n",
        "\n",
        "# View the list of links:\n",
        "eu_links"
      ],
      "execution_count": 0,
      "outputs": [
        {
          "output_type": "display_data",
          "data": {
            "text/plain": [
              " [1] \"https://www.europarl.europa.eu/meps/en/197490\"\n",
              " [2] \"https://www.europarl.europa.eu/meps/en/189525\"\n",
              " [3] \"https://www.europarl.europa.eu/meps/en/124831\"\n",
              " [4] \"https://www.europarl.europa.eu/meps/en/197826\"\n",
              " [5] \"https://www.europarl.europa.eu/meps/en/197403\"\n",
              " [6] \"https://www.europarl.europa.eu/meps/en/198096\"\n",
              " [7] \"https://www.europarl.europa.eu/meps/en/125045\"\n",
              " [8] \"https://www.europarl.europa.eu/meps/en/197696\"\n",
              " [9] \"https://www.europarl.europa.eu/meps/en/197836\"\n",
              "[10] \"https://www.europarl.europa.eu/meps/en/96750\" \n",
              "[11] \"https://www.europarl.europa.eu/meps/en/197848\"\n",
              "[12] \"https://www.europarl.europa.eu/meps/en/197644\"\n",
              "[13] \"https://www.europarl.europa.eu/meps/en/197400\"\n",
              "[14] \"https://www.europarl.europa.eu/meps/en/197746\"\n",
              "[15] \"https://www.europarl.europa.eu/meps/en/197783\"\n",
              "[16] \"https://www.europarl.europa.eu/meps/en/197475\"\n",
              "[17] \"https://www.europarl.europa.eu/meps/en/113959\"\n",
              "[18] \"https://www.europarl.europa.eu/meps/en/197448\"\n",
              "[19] \"https://www.europarl.europa.eu/meps/en/113892\"\n",
              "[20] \"https://www.europarl.europa.eu/meps/en/197691\"\n",
              "[21] \"https://www.europarl.europa.eu/meps/en/125110\"\n",
              "[22] \"https://www.europarl.europa.eu/meps/en/202073\"\n",
              "[23] \"https://www.europarl.europa.eu/meps/en/124973\"\n",
              "[24] \"https://www.europarl.europa.eu/meps/en/124696\"\n",
              "[25] \"https://www.europarl.europa.eu/meps/en/197587\"\n",
              "[26] \"https://www.europarl.europa.eu/meps/en/124936\"\n",
              "[27] \"https://www.europarl.europa.eu/meps/en/96808\" \n",
              "[28] \"https://www.europarl.europa.eu/meps/en/24922\" \n",
              "[29] \"https://www.europarl.europa.eu/meps/en/197492\"\n",
              "[30] \"https://www.europarl.europa.eu/meps/en/197664\"\n",
              "[31] \"https://www.europarl.europa.eu/meps/en/197701\"\n",
              "[32] \"https://www.europarl.europa.eu/meps/en/197695\"\n",
              "[33] \"https://www.europarl.europa.eu/meps/en/197533\"\n",
              "[34] \"https://www.europarl.europa.eu/meps/en/28161\" \n",
              "[35] \"https://www.europarl.europa.eu/meps/en/124766\"\n",
              "[36] \"https://www.europarl.europa.eu/meps/en/197651\"\n",
              "[37] \"https://www.europarl.europa.eu/meps/en/197781\""
            ],
            "text/latex": "\\begin{enumerate*}\n\\item 'https://www.europarl.europa.eu/meps/en/197490'\n\\item 'https://www.europarl.europa.eu/meps/en/189525'\n\\item 'https://www.europarl.europa.eu/meps/en/124831'\n\\item 'https://www.europarl.europa.eu/meps/en/197826'\n\\item 'https://www.europarl.europa.eu/meps/en/197403'\n\\item 'https://www.europarl.europa.eu/meps/en/198096'\n\\item 'https://www.europarl.europa.eu/meps/en/125045'\n\\item 'https://www.europarl.europa.eu/meps/en/197696'\n\\item 'https://www.europarl.europa.eu/meps/en/197836'\n\\item 'https://www.europarl.europa.eu/meps/en/96750'\n\\item 'https://www.europarl.europa.eu/meps/en/197848'\n\\item 'https://www.europarl.europa.eu/meps/en/197644'\n\\item 'https://www.europarl.europa.eu/meps/en/197400'\n\\item 'https://www.europarl.europa.eu/meps/en/197746'\n\\item 'https://www.europarl.europa.eu/meps/en/197783'\n\\item 'https://www.europarl.europa.eu/meps/en/197475'\n\\item 'https://www.europarl.europa.eu/meps/en/113959'\n\\item 'https://www.europarl.europa.eu/meps/en/197448'\n\\item 'https://www.europarl.europa.eu/meps/en/113892'\n\\item 'https://www.europarl.europa.eu/meps/en/197691'\n\\item 'https://www.europarl.europa.eu/meps/en/125110'\n\\item 'https://www.europarl.europa.eu/meps/en/202073'\n\\item 'https://www.europarl.europa.eu/meps/en/124973'\n\\item 'https://www.europarl.europa.eu/meps/en/124696'\n\\item 'https://www.europarl.europa.eu/meps/en/197587'\n\\item 'https://www.europarl.europa.eu/meps/en/124936'\n\\item 'https://www.europarl.europa.eu/meps/en/96808'\n\\item 'https://www.europarl.europa.eu/meps/en/24922'\n\\item 'https://www.europarl.europa.eu/meps/en/197492'\n\\item 'https://www.europarl.europa.eu/meps/en/197664'\n\\item 'https://www.europarl.europa.eu/meps/en/197701'\n\\item 'https://www.europarl.europa.eu/meps/en/197695'\n\\item 'https://www.europarl.europa.eu/meps/en/197533'\n\\item 'https://www.europarl.europa.eu/meps/en/28161'\n\\item 'https://www.europarl.europa.eu/meps/en/124766'\n\\item 'https://www.europarl.europa.eu/meps/en/197651'\n\\item 'https://www.europarl.europa.eu/meps/en/197781'\n\\end{enumerate*}\n",
            "text/markdown": "1. 'https://www.europarl.europa.eu/meps/en/197490'\n2. 'https://www.europarl.europa.eu/meps/en/189525'\n3. 'https://www.europarl.europa.eu/meps/en/124831'\n4. 'https://www.europarl.europa.eu/meps/en/197826'\n5. 'https://www.europarl.europa.eu/meps/en/197403'\n6. 'https://www.europarl.europa.eu/meps/en/198096'\n7. 'https://www.europarl.europa.eu/meps/en/125045'\n8. 'https://www.europarl.europa.eu/meps/en/197696'\n9. 'https://www.europarl.europa.eu/meps/en/197836'\n10. 'https://www.europarl.europa.eu/meps/en/96750'\n11. 'https://www.europarl.europa.eu/meps/en/197848'\n12. 'https://www.europarl.europa.eu/meps/en/197644'\n13. 'https://www.europarl.europa.eu/meps/en/197400'\n14. 'https://www.europarl.europa.eu/meps/en/197746'\n15. 'https://www.europarl.europa.eu/meps/en/197783'\n16. 'https://www.europarl.europa.eu/meps/en/197475'\n17. 'https://www.europarl.europa.eu/meps/en/113959'\n18. 'https://www.europarl.europa.eu/meps/en/197448'\n19. 'https://www.europarl.europa.eu/meps/en/113892'\n20. 'https://www.europarl.europa.eu/meps/en/197691'\n21. 'https://www.europarl.europa.eu/meps/en/125110'\n22. 'https://www.europarl.europa.eu/meps/en/202073'\n23. 'https://www.europarl.europa.eu/meps/en/124973'\n24. 'https://www.europarl.europa.eu/meps/en/124696'\n25. 'https://www.europarl.europa.eu/meps/en/197587'\n26. 'https://www.europarl.europa.eu/meps/en/124936'\n27. 'https://www.europarl.europa.eu/meps/en/96808'\n28. 'https://www.europarl.europa.eu/meps/en/24922'\n29. 'https://www.europarl.europa.eu/meps/en/197492'\n30. 'https://www.europarl.europa.eu/meps/en/197664'\n31. 'https://www.europarl.europa.eu/meps/en/197701'\n32. 'https://www.europarl.europa.eu/meps/en/197695'\n33. 'https://www.europarl.europa.eu/meps/en/197533'\n34. 'https://www.europarl.europa.eu/meps/en/28161'\n35. 'https://www.europarl.europa.eu/meps/en/124766'\n36. 'https://www.europarl.europa.eu/meps/en/197651'\n37. 'https://www.europarl.europa.eu/meps/en/197781'\n\n\n",
            "text/html": [
              "<ol class=list-inline>\n",
              "\t<li>'https://www.europarl.europa.eu/meps/en/197490'</li>\n",
              "\t<li>'https://www.europarl.europa.eu/meps/en/189525'</li>\n",
              "\t<li>'https://www.europarl.europa.eu/meps/en/124831'</li>\n",
              "\t<li>'https://www.europarl.europa.eu/meps/en/197826'</li>\n",
              "\t<li>'https://www.europarl.europa.eu/meps/en/197403'</li>\n",
              "\t<li>'https://www.europarl.europa.eu/meps/en/198096'</li>\n",
              "\t<li>'https://www.europarl.europa.eu/meps/en/125045'</li>\n",
              "\t<li>'https://www.europarl.europa.eu/meps/en/197696'</li>\n",
              "\t<li>'https://www.europarl.europa.eu/meps/en/197836'</li>\n",
              "\t<li>'https://www.europarl.europa.eu/meps/en/96750'</li>\n",
              "\t<li>'https://www.europarl.europa.eu/meps/en/197848'</li>\n",
              "\t<li>'https://www.europarl.europa.eu/meps/en/197644'</li>\n",
              "\t<li>'https://www.europarl.europa.eu/meps/en/197400'</li>\n",
              "\t<li>'https://www.europarl.europa.eu/meps/en/197746'</li>\n",
              "\t<li>'https://www.europarl.europa.eu/meps/en/197783'</li>\n",
              "\t<li>'https://www.europarl.europa.eu/meps/en/197475'</li>\n",
              "\t<li>'https://www.europarl.europa.eu/meps/en/113959'</li>\n",
              "\t<li>'https://www.europarl.europa.eu/meps/en/197448'</li>\n",
              "\t<li>'https://www.europarl.europa.eu/meps/en/113892'</li>\n",
              "\t<li>'https://www.europarl.europa.eu/meps/en/197691'</li>\n",
              "\t<li>'https://www.europarl.europa.eu/meps/en/125110'</li>\n",
              "\t<li>'https://www.europarl.europa.eu/meps/en/202073'</li>\n",
              "\t<li>'https://www.europarl.europa.eu/meps/en/124973'</li>\n",
              "\t<li>'https://www.europarl.europa.eu/meps/en/124696'</li>\n",
              "\t<li>'https://www.europarl.europa.eu/meps/en/197587'</li>\n",
              "\t<li>'https://www.europarl.europa.eu/meps/en/124936'</li>\n",
              "\t<li>'https://www.europarl.europa.eu/meps/en/96808'</li>\n",
              "\t<li>'https://www.europarl.europa.eu/meps/en/24922'</li>\n",
              "\t<li>'https://www.europarl.europa.eu/meps/en/197492'</li>\n",
              "\t<li>'https://www.europarl.europa.eu/meps/en/197664'</li>\n",
              "\t<li>'https://www.europarl.europa.eu/meps/en/197701'</li>\n",
              "\t<li>'https://www.europarl.europa.eu/meps/en/197695'</li>\n",
              "\t<li>'https://www.europarl.europa.eu/meps/en/197533'</li>\n",
              "\t<li>'https://www.europarl.europa.eu/meps/en/28161'</li>\n",
              "\t<li>'https://www.europarl.europa.eu/meps/en/124766'</li>\n",
              "\t<li>'https://www.europarl.europa.eu/meps/en/197651'</li>\n",
              "\t<li>'https://www.europarl.europa.eu/meps/en/197781'</li>\n",
              "</ol>\n"
            ]
          },
          "metadata": {
            "tags": []
          }
        }
      ]
    },
    {
      "cell_type": "markdown",
      "metadata": {
        "id": "oDX6_NV5t31H",
        "colab_type": "text"
      },
      "source": [
        "Now we have the URLs to the subpages of the members of parliament. We can use the `read_html()` function again to scrape text (birth dates) from each subpage. \n",
        "But since we want to scrape several pages, we would have to adapt the code for each page and execute them one after the other. We can work around this with a for loop that automatically executes the same code for each page in turn."
      ]
    },
    {
      "cell_type": "code",
      "metadata": {
        "id": "YlMbXicn-RGu",
        "colab_type": "code",
        "outputId": "8c61856e-fdf8-4426-84d7-6451b952cb98",
        "colab": {
          "base_uri": "https://localhost:8080/",
          "height": 818
        }
      },
      "source": [
        "# Before we start our for loop, we have to create an empty container object. \n",
        "# This empty container can be filled with specific content (in our case the dates of birth) through our for loop.\n",
        "eu_birthdates <- as.character()\n",
        "\n",
        "# In our for loop, we must define how often the element i of the link list is passed through. \n",
        "for (i in 1:length(eu_links)){\n",
        "\n",
        "  # Download html of current eu parlamentarian subpage\n",
        "  html_i <- read_html(eu_links[i], encoding = \"UTF-8\")\n",
        "\n",
        "  # Find the birth date node (inspector gadget)\n",
        "  birth_node_i <- html_nodes(html_i, \"#birthDate\")\n",
        "\n",
        "  # Now we extract the text of our specific node\n",
        "  birth_i <- html_text(birth_node_i)\n",
        "\n",
        "  # Not every parlamentarian has a birth date on their website. Therefore we need to check\n",
        "  if (length(birth_i) == 0) {\n",
        "    birth_i <- NA\n",
        "  }\n",
        "\n",
        "  print(birth_i)\n",
        "\n",
        "  # We append the new birth date to our previously empty container object\n",
        "  eu_birthdates <- append(eu_birthdates, birth_i)\n",
        "}\n",
        "\n",
        "# We now have a list of names and a list of birth dates. \n",
        "# Let´s bind them to our data set\n",
        "data <- cbind(data, eu_birthdates)\n",
        "\n",
        "# Outputting content to our console\n",
        "head(data)\n",
        "\n",
        "# Within a for loop you can include multiple nodes from which you want to extract content. \n",
        "# For each content you want to scrape, you only need to create an empty container variable first, which is then filled in the for loop. "
      ],
      "execution_count": 0,
      "outputs": [
        {
          "output_type": "stream",
          "text": [
            "[1] NA\n",
            "[1] \"03-12-1968\"\n",
            "[1] NA\n",
            "[1] \"24-12-1963\"\n",
            "[1] \"31-01-1989\"\n",
            "[1] \"20-09-1949\"\n",
            "[1] \"03-01-1964\"\n",
            "[1] \"27-12-1968\"\n",
            "[1] \"13-02-1952\"\n",
            "[1] \"14-09-1953\"\n",
            "[1] \"18-09-1981\"\n",
            "[1] \"31-03-1964\"\n",
            "[1] \"18-05-1976\"\n",
            "[1] \"25-05-1953\"\n",
            "[1] \"05-03-1961\"\n",
            "[1] NA\n",
            "[1] \"16-04-1962\"\n",
            "[1] \"20-02-1986\"\n",
            "[1] \"14-04-1960\"\n",
            "[1] \"03-07-1984\"\n",
            "[1] \"07-02-1979\"\n",
            "[1] \"12-03-1963\"\n",
            "[1] \"08-11-1958\"\n",
            "[1] \"01-10-1956\"\n",
            "[1] \"14-01-1953\"\n",
            "[1] \"17-12-1966\"\n",
            "[1] \"30-06-1970\"\n",
            "[1] \"25-09-1974\"\n",
            "[1] \"30-12-1971\"\n",
            "[1] \"28-06-1973\"\n",
            "[1] \"09-06-1964\"\n",
            "[1] \"27-03-1967\"\n",
            "[1] \"22-12-1989\"\n",
            "[1] NA\n",
            "[1] \"16-05-1963\"\n",
            "[1] \"08-05-1966\"\n",
            "[1] \"20-01-1976\"\n"
          ],
          "name": "stdout"
        },
        {
          "output_type": "display_data",
          "data": {
            "text/plain": [
              "     eu_parl_names       eu_parl_countries eu_birthdates\n",
              "[1,] Magdalena ADAMOWICZ Poland            NA           \n",
              "[2,] Asim ADEMOV         Bulgaria          03-12-1968   \n",
              "[3,] Isabella ADINOLFI   Italy             NA           \n",
              "[4,] Matteo ADINOLFI     Italy             24-12-1963   \n",
              "[5,] Alex AGIUS SALIBA   Malta             31-01-1989   \n",
              "[6,] Mazaly AGUILAR      Spain             20-09-1949   "
            ],
            "text/latex": "A matrix: 6 × 3 of type chr\n\\begin{tabular}{lll}\n eu\\_parl\\_names & eu\\_parl\\_countries & eu\\_birthdates\\\\\n\\hline\n\t Magdalena ADAMOWICZ & Poland   & NA        \\\\\n\t Asim ADEMOV         & Bulgaria & 03-12-1968\\\\\n\t Isabella ADINOLFI   & Italy    & NA        \\\\\n\t Matteo ADINOLFI     & Italy    & 24-12-1963\\\\\n\t Alex AGIUS SALIBA   & Malta    & 31-01-1989\\\\\n\t Mazaly AGUILAR      & Spain    & 20-09-1949\\\\\n\\end{tabular}\n",
            "text/markdown": "\nA matrix: 6 × 3 of type chr\n\n| eu_parl_names | eu_parl_countries | eu_birthdates |\n|---|---|---|\n| Magdalena ADAMOWICZ | Poland   | NA         |\n| Asim ADEMOV         | Bulgaria | 03-12-1968 |\n| Isabella ADINOLFI   | Italy    | NA         |\n| Matteo ADINOLFI     | Italy    | 24-12-1963 |\n| Alex AGIUS SALIBA   | Malta    | 31-01-1989 |\n| Mazaly AGUILAR      | Spain    | 20-09-1949 |\n\n",
            "text/html": [
              "<table>\n",
              "<caption>A matrix: 6 × 3 of type chr</caption>\n",
              "<thead>\n",
              "\t<tr><th scope=col>eu_parl_names</th><th scope=col>eu_parl_countries</th><th scope=col>eu_birthdates</th></tr>\n",
              "</thead>\n",
              "<tbody>\n",
              "\t<tr><td>Magdalena ADAMOWICZ</td><td>Poland  </td><td>NA        </td></tr>\n",
              "\t<tr><td>Asim ADEMOV        </td><td>Bulgaria</td><td>03-12-1968</td></tr>\n",
              "\t<tr><td>Isabella ADINOLFI  </td><td>Italy   </td><td>NA        </td></tr>\n",
              "\t<tr><td>Matteo ADINOLFI    </td><td>Italy   </td><td>24-12-1963</td></tr>\n",
              "\t<tr><td>Alex AGIUS SALIBA  </td><td>Malta   </td><td>31-01-1989</td></tr>\n",
              "\t<tr><td>Mazaly AGUILAR     </td><td>Spain   </td><td>20-09-1949</td></tr>\n",
              "</tbody>\n",
              "</table>\n"
            ]
          },
          "metadata": {
            "tags": []
          }
        }
      ]
    },
    {
      "cell_type": "markdown",
      "metadata": {
        "colab_type": "text",
        "id": "mdgYWZLLZh1K"
      },
      "source": [
        "<b>Exercise</b><br /> We have only scraped the subpages of parlamentarians who are on the first page. And we know only two things about them: Their name and their birth date. \n",
        "\n",
        "But what if that's not enough? We probably want to create a dataset of all members of the parliament (from a - z). Also, we need more information, e.g. on their parlamentary group and country. \n",
        "\n",
        "This is your task! Use the following script to create a small dataset of all eu parlamentarians including the variables name, birth_date, group, country and party. "
      ]
    },
    {
      "cell_type": "code",
      "metadata": {
        "id": "yMuRAuaXx7YE",
        "colab_type": "code",
        "outputId": "661fe222-c93a-4e1b-fecb-b436a5616e57",
        "colab": {
          "base_uri": "https://localhost:8080/",
          "height": 172
        }
      },
      "source": [
        "# First find the right link for your URL\n",
        "url_fulllist <- \"https://www2.europarl.europa.eu/meps/en/full-list/all\"\n",
        "\n",
        "url <- read_html(url_fulllist, encoding = \"UTF-8\")\n",
        "\n",
        "# Now extract the variables eu_names, eu_group, eu_country and eu_party\n",
        "eu_names_nodes <- html_nodes(url, \".member-name\")\n",
        "eu_names <- html_text(eu_names_nodes)\n",
        "\n",
        "eu_group_nodes <- html_nodes(url, \".ep-layout_group .ep_name\")\n",
        "eu_group <- html_text(eu_group_nodes)\n",
        "\n",
        "eu_country_nodes <- html_nodes(url, \".ep-layout_country .ep_name\")\n",
        "eu_country <- html_text(eu_country_nodes) \n",
        "\n",
        "eu_party_nodes <- html_nodes(url, \".ep-layout_party .ep_name\")\n",
        "eu_party <- html_text(eu_party_nodes) \n",
        "\n",
        "# We nee a slightly different node to scrape all links:\n",
        "eu_links_nodes <- html_nodes(url,\".single-member-container a\") \n",
        "\n",
        "# Now using the html_attr() function on the new nodes\n",
        "# we are telling it to extract the \"href\" attribute:\n",
        "eu_links <- html_attr(eu_links_nodes, \"href\")\n",
        "\n",
        "# We need to paste the url to the links:\n",
        "eu_links <- paste0(\"https://www.europarl.europa.eu\", eu_links)\n",
        "\n",
        "eu_birthdates <- as.character()\n",
        "# Insert a for loop that scrapes all the birth dates\n",
        "for (i in 1:length(eu_links)){\n",
        "  \n",
        "  # Download html of current eu parlamentarian subpage\n",
        "  html_i <- read_html(eu_links[i], encoding = \"UTF-8\")\n",
        "  #print(html_nodes(html_i, \"div+ .ep-a_text\"))\n",
        "  \n",
        "  # Find the birth date node (inspector gadget)\n",
        "  birth_node_i <- html_nodes(html_i, \"#birthDate\")\n",
        "  \n",
        "  # Now we extract the text of our specific node\n",
        "  birth_i <- html_text(birth_node_i)\n",
        "  \n",
        "  if (length(birth_i) == 0) {\n",
        "    #if (as.integer(length(birth_i)) == 0) {\n",
        "    birth_i <- NA\n",
        "  }\n",
        "  \n",
        "  # We append the new birth date to our previously empty container object\n",
        "  eu_birthdates <- append(eu_birthdates, birth_i)\n",
        "}\n",
        "\n",
        "# combine all variables into one matrix\n",
        "data <- cbind(eu_names,eu_group,eu_country,eu_party,eu_birthdates)\n",
        "\n",
        "# View dataset\n",
        "head(data)"
      ],
      "execution_count": 0,
      "outputs": [
        {
          "output_type": "display_data",
          "data": {
            "text/plain": [
              "     eu_names           \n",
              "[1,] Magdalena ADAMOWICZ\n",
              "[2,] Asim ADEMOV        \n",
              "[3,] Isabella ADINOLFI  \n",
              "[4,] Matteo ADINOLFI    \n",
              "[5,] Alex AGIUS SALIBA  \n",
              "[6,] Mazaly AGUILAR     \n",
              "     eu_group                                                                                \n",
              "[1,] Group of the European People's Party (Christian Democrats)                              \n",
              "[2,] Group of the European People's Party (Christian Democrats)                              \n",
              "[3,] Non-attached Members                                                                    \n",
              "[4,] Identity and Democracy Group                                                            \n",
              "[5,] Group of the Progressive Alliance of Socialists and Democrats in the European Parliament\n",
              "[6,] European Conservatives and Reformists Group                                             \n",
              "     eu_country eu_party                                      eu_birthdates\n",
              "[1,] Poland     Independent                                   NA           \n",
              "[2,] Bulgaria   Citizens for European Development of Bulgaria 03-12-1968   \n",
              "[3,] Italy      Movimento 5 Stelle                            NA           \n",
              "[4,] Italy      Lega                                          24-12-1963   \n",
              "[5,] Malta      Partit Laburista                              31-01-1989   \n",
              "[6,] Spain      VOX                                           20-09-1949   "
            ],
            "text/latex": "A matrix: 6 × 5 of type chr\n\\begin{tabular}{lllll}\n eu\\_names & eu\\_group & eu\\_country & eu\\_party & eu\\_birthdates\\\\\n\\hline\n\t Magdalena ADAMOWICZ & Group of the European People's Party (Christian Democrats)                               & Poland   & Independent                                   & NA        \\\\\n\t Asim ADEMOV         & Group of the European People's Party (Christian Democrats)                               & Bulgaria & Citizens for European Development of Bulgaria & 03-12-1968\\\\\n\t Isabella ADINOLFI   & Non-attached Members                                                                     & Italy    & Movimento 5 Stelle                            & NA        \\\\\n\t Matteo ADINOLFI     & Identity and Democracy Group                                                             & Italy    & Lega                                          & 24-12-1963\\\\\n\t Alex AGIUS SALIBA   & Group of the Progressive Alliance of Socialists and Democrats in the European Parliament & Malta    & Partit Laburista                              & 31-01-1989\\\\\n\t Mazaly AGUILAR      & European Conservatives and Reformists Group                                              & Spain    & VOX                                           & 20-09-1949\\\\\n\\end{tabular}\n",
            "text/markdown": "\nA matrix: 6 × 5 of type chr\n\n| eu_names | eu_group | eu_country | eu_party | eu_birthdates |\n|---|---|---|---|---|\n| Magdalena ADAMOWICZ | Group of the European People's Party (Christian Democrats)                               | Poland   | Independent                                   | NA         |\n| Asim ADEMOV         | Group of the European People's Party (Christian Democrats)                               | Bulgaria | Citizens for European Development of Bulgaria | 03-12-1968 |\n| Isabella ADINOLFI   | Non-attached Members                                                                     | Italy    | Movimento 5 Stelle                            | NA         |\n| Matteo ADINOLFI     | Identity and Democracy Group                                                             | Italy    | Lega                                          | 24-12-1963 |\n| Alex AGIUS SALIBA   | Group of the Progressive Alliance of Socialists and Democrats in the European Parliament | Malta    | Partit Laburista                              | 31-01-1989 |\n| Mazaly AGUILAR      | European Conservatives and Reformists Group                                              | Spain    | VOX                                           | 20-09-1949 |\n\n",
            "text/html": [
              "<table>\n",
              "<caption>A matrix: 6 × 5 of type chr</caption>\n",
              "<thead>\n",
              "\t<tr><th scope=col>eu_names</th><th scope=col>eu_group</th><th scope=col>eu_country</th><th scope=col>eu_party</th><th scope=col>eu_birthdates</th></tr>\n",
              "</thead>\n",
              "<tbody>\n",
              "\t<tr><td>Magdalena ADAMOWICZ</td><td>Group of the European People's Party (Christian Democrats)                              </td><td>Poland  </td><td>Independent                                  </td><td>NA        </td></tr>\n",
              "\t<tr><td>Asim ADEMOV        </td><td>Group of the European People's Party (Christian Democrats)                              </td><td>Bulgaria</td><td>Citizens for European Development of Bulgaria</td><td>03-12-1968</td></tr>\n",
              "\t<tr><td>Isabella ADINOLFI  </td><td>Non-attached Members                                                                    </td><td>Italy   </td><td>Movimento 5 Stelle                           </td><td>NA        </td></tr>\n",
              "\t<tr><td>Matteo ADINOLFI    </td><td>Identity and Democracy Group                                                            </td><td>Italy   </td><td>Lega                                         </td><td>24-12-1963</td></tr>\n",
              "\t<tr><td>Alex AGIUS SALIBA  </td><td>Group of the Progressive Alliance of Socialists and Democrats in the European Parliament</td><td>Malta   </td><td>Partit Laburista                             </td><td>31-01-1989</td></tr>\n",
              "\t<tr><td>Mazaly AGUILAR     </td><td>European Conservatives and Reformists Group                                             </td><td>Spain   </td><td>VOX                                          </td><td>20-09-1949</td></tr>\n",
              "</tbody>\n",
              "</table>\n"
            ]
          },
          "metadata": {
            "tags": []
          }
        }
      ]
    },
    {
      "cell_type": "markdown",
      "metadata": {
        "colab_type": "text",
        "id": "38OwvXDluk2S"
      },
      "source": [
        "# 5. Analysis\n",
        "\n",
        "What to do with your scraped data? For example, you can calculate the average age per parliamentary group. \n"
      ]
    },
    {
      "cell_type": "code",
      "metadata": {
        "id": "U2aeYEE3vUg5",
        "colab_type": "code",
        "outputId": "1dde6578-e7bf-426b-8509-e70f636f5b1f",
        "colab": {
          "base_uri": "https://localhost:8080/",
          "height": 150
        }
      },
      "source": [
        "library(stringr)\n",
        "age <- 2020 - as.integer(substr(eu_birthdates, 7, 10)) \n",
        "summary(age)\n",
        "\n",
        "# Now we have the age of every parliament member. If we want to know the average age per parliamentary group, we need to differ between the groups\n",
        "tapply(age, eu_country, mean)\n",
        "\n",
        "data <- as.data.frame(cbind(eu_country,age))\n",
        "summary(data)\n",
        "\n",
        "# Finally, we can visualize our means\n",
        "ggplot(filter(data, !is.na(age)) + \n",
        "  stat_summary(\n",
        "    aes(x = eu_country, y = age),\n",
        "    fun.ymin = min,\n",
        "    fun.ymax = max,\n",
        "    fun.y = mean \n",
        "  )"
      ],
      "execution_count": 0,
      "outputs": [
        {
          "output_type": "error",
          "ename": "ERROR",
          "evalue": "ignored",
          "traceback": [
            "Error in parse(text = x, srcfile = src): <text>:17:0: unexpected end of input\n15:     fun.ymin = min,\n16:     fun.ymax = max)\n   ^\nTraceback:\n"
          ]
        }
      ]
    },
    {
      "cell_type": "code",
      "metadata": {
        "id": "4sqEUdg0qnfl",
        "colab_type": "code",
        "colab": {}
      },
      "source": [
        ""
      ],
      "execution_count": 0,
      "outputs": []
    },
    {
      "cell_type": "markdown",
      "metadata": {
        "id": "zEeJ62EeRYWF",
        "colab_type": "text"
      },
      "source": [
        "# 6. Outlook\n",
        "\n",
        "<b>Scraping as suitable method in the post-API era</b><li> Web scraping offers a good opportunity for data collection - even in the post-API era</li><li> Web scraping is particularly easy when a website is properly programmed</li><li>Always allow enough time for data cleansing (often takes longer with scraped data)</li><li>Besides extracting text and links, it is also possible to fill out and send forms</li> <br /><b>Ethical and legal aspects</b><li>It is particularly important to act in a legally and ethically responsible manner (e.g. personal data) <li>Before scraping, check the terms of a website. If scraping is prohibited, the page should not be scraped<li>Never scrape data behind a login or paywall (even if you technically could)</b><br /><br /><b>Using Xpath</b><li>XPath can be used to navigate through elements and attributes in an XML document</li><li>With XPath, you can extract data based on text elements' contents, and not only on the page structure <li>So when you are scraping the web and you run into a hard-to-scrape website, XPath may just save the day</li><li>You can use the Selector Gadget to find the Xpath (just click on Xpath in the box)</li><li>Instead of using the CSS class in your code <b>html_nodes(object_name, \"CSS class\")</b> you use the Xpath <b>html_nodes(object_name, xpath='XpathClass')</b></li><br />Example: You want to scrape a specific element of a web page. The CSS class of this specific element is assigned a multiple times on the web page. Therefore, more than the specific element is scraped with the CSS class. Using Xpath is your solution because the Xpath is unique for every element on a web page. <br /><br /><b>Further reading</b><br />\n",
        "Munzert, S., Ruoba, C., Meiboner, P., & Nyhuis, D. (2015). Automated Data Collection with R: A practical Guide to Web Scraping and Text Mining. Chichester, United Kingdom: John Wiley & Sons. \n",
        "\n",
        "For data wrangling and cleansing see https://r4ds.had.co.nz/\n",
        "\n"
      ]
    },
    {
      "cell_type": "code",
      "metadata": {
        "id": "CjPNEIyc1vHo",
        "colab_type": "code",
        "colab": {}
      },
      "source": [
        ""
      ],
      "execution_count": 0,
      "outputs": []
    }
  ]
}